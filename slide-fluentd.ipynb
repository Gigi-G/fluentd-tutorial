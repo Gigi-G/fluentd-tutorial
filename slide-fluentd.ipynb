{
 "cells": [
  {
   "cell_type": "markdown",
   "metadata": {
    "slideshow": {
     "slide_type": "slide"
    }
   },
   "source": [
    "<center><a href=\"https://www.fluentd.org/\" target=\"_blank\"><img src=\"img/fluentd.png\"></a><center>"
   ]
  },
  {
   "cell_type": "markdown",
   "metadata": {
    "slideshow": {
     "slide_type": "slide"
    }
   },
   "source": [
    "## What is fluentd?"
   ]
  },
  {
   "cell_type": "markdown",
   "metadata": {
    "slideshow": {
     "slide_type": "fragment"
    }
   },
   "source": [
    "\"*Fluentd is an open source data collector, which lets you unify the data collection and consumption for a better use and understanding of data.*\""
   ]
  },
  {
   "cell_type": "markdown",
   "metadata": {
    "slideshow": {
     "slide_type": "slide"
    }
   },
   "source": [
    "## Why use fluentd?"
   ]
  },
  {
   "cell_type": "markdown",
   "metadata": {
    "slideshow": {
     "slide_type": "fragment"
    }
   },
   "source": [
    "- Unified Logging with JSON"
   ]
  },
  {
   "cell_type": "markdown",
   "metadata": {
    "slideshow": {
     "slide_type": "fragment"
    }
   },
   "source": [
    "- Pluggable Architecture"
   ]
  },
  {
   "cell_type": "markdown",
   "metadata": {
    "slideshow": {
     "slide_type": "fragment"
    }
   },
   "source": [
    "- Minimum Resources Required"
   ]
  },
  {
   "cell_type": "markdown",
   "metadata": {
    "slideshow": {
     "slide_type": "fragment"
    }
   },
   "source": [
    "- Built-in Reliability"
   ]
  },
  {
   "cell_type": "markdown",
   "metadata": {
    "slideshow": {
     "slide_type": "slide"
    }
   },
   "source": [
    "## Unified Logging with JSON"
   ]
  },
  {
   "cell_type": "markdown",
   "metadata": {
    "slideshow": {
     "slide_type": "fragment"
    }
   },
   "source": [
    "\"*Fluentd tries to structure data as JSON as much as possible: this allows Fluentd to unify all facets of processing log data: collecting, filtering, buffering, and outputting logs across multiple sources and destinations.*\""
   ]
  },
  {
   "cell_type": "markdown",
   "metadata": {
    "slideshow": {
     "slide_type": "slide"
    }
   },
   "source": [
    "<table>\n",
    "    <tr>\n",
    "        <td><img src=\"img/before_fluentd.png\" width=\"100%\"></td>\n",
    "        <td><img src=\"img/after_fluentd.png\" width=\"100%\"></td>\n",
    "    </tr>\n",
    "</table>"
   ]
  },
  {
   "cell_type": "markdown",
   "metadata": {
    "slideshow": {
     "slide_type": "slide"
    }
   },
   "source": [
    "## Pluggable Architecture"
   ]
  },
  {
   "cell_type": "markdown",
   "metadata": {
    "slideshow": {
     "slide_type": "fragment"
    }
   },
   "source": [
    "\"*Fluentd has a flexible plugin system that allows the community to extend its functionality. Our 500+ community-contributed plugins connect dozens of data sources and data outputs. By leveraging the plugins, you can start making better use of your logs right away.*\""
   ]
  },
  {
   "cell_type": "markdown",
   "metadata": {
    "slideshow": {
     "slide_type": "slide"
    }
   },
   "source": [
    "## Minimum Resources Required"
   ]
  },
  {
   "cell_type": "markdown",
   "metadata": {
    "slideshow": {
     "slide_type": "fragment"
    }
   },
   "source": [
    "\"*Fluentd is written in a combination of C language and Ruby, and requires very little system resource. The vanilla instance runs on 30-40MB of memory and can process 13,000 events/second/core. If you have tighter memory requirements (-450kb), check out Fluent Bit, the lightweight forwarder for Fluentd.*\""
   ]
  },
  {
   "cell_type": "markdown",
   "metadata": {
    "slideshow": {
     "slide_type": "slide"
    }
   },
   "source": [
    "## Built-in Reliability"
   ]
  },
  {
   "cell_type": "markdown",
   "metadata": {
    "slideshow": {
     "slide_type": "fragment"
    }
   },
   "source": [
    "\"*Fluentd supports memory- and file-based buffering to prevent inter-node data loss. Fluentd also supports robust failover and can be set up for high availability. 2,000+ data-driven companies rely on Fluentd to differentiate their products and services through a better use and understanding of their log data.*\""
   ]
  },
  {
   "cell_type": "markdown",
   "metadata": {
    "slideshow": {
     "slide_type": "slide"
    }
   },
   "source": [
    "## Now the problem is..."
   ]
  },
  {
   "cell_type": "markdown",
   "metadata": {
    "slideshow": {
     "slide_type": "fragment"
    }
   },
   "source": [
    "<center><img src=\"img/logstash_or_fluentd.jpg\" width=\"25%\"></center>"
   ]
  },
  {
   "cell_type": "markdown",
   "metadata": {
    "slideshow": {
     "slide_type": "slide"
    }
   },
   "source": [
    "## Fluentd vs. LogStash"
   ]
  },
  {
   "cell_type": "markdown",
   "metadata": {
    "slideshow": {
     "slide_type": "fragment"
    }
   },
   "source": [
    "<blockquote class=\"twitter-tweet\"><p lang=\"en\" dir=\"ltr\">There are three important decisions in life:who you love,who you fight,and how you ship your logs <a href=\"https://t.co/Ow1CIDt7sI\">https://t.co/Ow1CIDt7sI</a> <a href=\"https://twitter.com/hashtag/fluentd?src=hash&amp;ref_src=twsrc%5Etfw\">#fluentd</a> <a href=\"https://twitter.com/hashtag/logstash?src=hash&amp;ref_src=twsrc%5Etfw\">#logstash</a></p>&mdash; Luc Juggery (@lucjuggery) <a href=\"https://twitter.com/lucjuggery/status/893359554863316993?ref_src=twsrc%5Etfw\">August 4, 2017</a></blockquote> <script async src=\"https://platform.twitter.com/widgets.js\" charset=\"utf-8\"></script> "
   ]
  },
  {
   "cell_type": "markdown",
   "metadata": {
    "slideshow": {
     "slide_type": "slide"
    }
   },
   "source": [
    "### Popularity and Livelihood of the tool"
   ]
  },
  {
   "cell_type": "markdown",
   "metadata": {
    "slideshow": {
     "slide_type": "fragment"
    }
   },
   "source": [
    "**LogStash:** 7k stars on GitHub, IRC channel and a forum.\n",
    "\n",
    "**Fluentd:** 4k stars on Github, Slack channel, newsletters and Google group."
   ]
  },
  {
   "cell_type": "markdown",
   "metadata": {
    "slideshow": {
     "slide_type": "slide"
    }
   },
   "source": [
    "### Endorsing company"
   ]
  },
  {
   "cell_type": "markdown",
   "metadata": {
    "slideshow": {
     "slide_type": "fragment"
    }
   },
   "source": [
    "**LogStash:** part of the ELK stack.\n",
    "\n",
    "**Fluentd:** part of the CNCF (Cloud Native Computing Foundation)."
   ]
  },
  {
   "cell_type": "markdown",
   "metadata": {
    "slideshow": {
     "slide_type": "slide"
    }
   },
   "source": [
    "### Platform Compatibility and Extensibility"
   ]
  },
  {
   "cell_type": "markdown",
   "metadata": {
    "slideshow": {
     "slide_type": "fragment"
    }
   },
   "source": [
    "**LogStash:** Windows and Linux. about 200 plugins on GitHub.\n",
    "\n",
    "**Fluentd:** Windows and Linux. about 500 plugins on GitHub."
   ]
  },
  {
   "cell_type": "markdown",
   "metadata": {
    "slideshow": {
     "slide_type": "slide"
    }
   },
   "source": [
    "### Transport Ecosystem"
   ]
  },
  {
   "cell_type": "markdown",
   "metadata": {
    "slideshow": {
     "slide_type": "fragment"
    }
   },
   "source": [
    "**LogStash:** limited to an on-memory queue that holds 20 events.\n",
    "\n",
    "**Fluentd:** highly configurable buffering system."
   ]
  },
  {
   "cell_type": "markdown",
   "metadata": {
    "slideshow": {
     "slide_type": "slide"
    }
   },
   "source": [
    "### Monitoring & Tuning"
   ]
  },
  {
   "cell_type": "markdown",
   "metadata": {
    "slideshow": {
     "slide_type": "fragment"
    }
   },
   "source": [
    "**LogStash:** Metrics filter, can be visualized in 3rd party such as Graphite.\n",
    "\n",
    "**Fluentd:** built-in monitoring agent, plug-ins to integrate with your monitoring stack."
   ]
  },
  {
   "cell_type": "markdown",
   "metadata": {
    "slideshow": {
     "slide_type": "fragment"
    }
   },
   "source": [
    "<center><img src=\"img/plug-ins.jpg\" width=\"20%\"></center>"
   ]
  },
  {
   "cell_type": "markdown",
   "metadata": {
    "slideshow": {
     "slide_type": "slide"
    }
   },
   "source": [
    "### Configuration DSL"
   ]
  },
  {
   "cell_type": "markdown",
   "metadata": {
    "slideshow": {
     "slide_type": "fragment"
    }
   },
   "source": [
    "**LogStash:** routing into a single stream, then sends to the correct destination.\n",
    "\n",
    "**Fluentd:** routing based on event tags."
   ]
  },
  {
   "cell_type": "markdown",
   "metadata": {
    "slideshow": {
     "slide_type": "slide"
    }
   },
   "source": [
    "## Fluentd example"
   ]
  },
  {
   "cell_type": "markdown",
   "metadata": {
    "slideshow": {
     "slide_type": "fragment"
    }
   },
   "source": [
    "Now we will create an \"Hello world\" example using the official <a href=\"https://hub.docker.com/r/fluent/fluentd/\" target=\"_blank\">Fluentd Docker container.</a> and a simple script Python."
   ]
  },
  {
   "cell_type": "markdown",
   "metadata": {
    "slideshow": {
     "slide_type": "slide"
    }
   },
   "source": [
    "### Script Python"
   ]
  },
  {
   "cell_type": "markdown",
   "metadata": {
    "slideshow": {
     "slide_type": "fragment"
    }
   },
   "source": [
    "```python\n",
    "import threading\n",
    "import time\n",
    "import random\n",
    "from fluent import sender\n",
    "from fluent import event\n",
    "```"
   ]
  },
  {
   "cell_type": "markdown",
   "metadata": {
    "slideshow": {
     "slide_type": "fragment"
    }
   },
   "source": [
    "```shell\n",
    "$ pip install fluent-logger\n",
    "```"
   ]
  },
  {
   "cell_type": "markdown",
   "metadata": {
    "slideshow": {
     "slide_type": "slide"
    }
   },
   "source": [
    "```python\n",
    "thread_name = {\n",
    "    'one':      '{\\\"message\\\":\\\"Hello\\\",\\\"from\\\":\\\"thread.one\\\"}', \n",
    "    'two':      'Hello thread.two', \n",
    "    'three':      'Hello thread.three', \n",
    "    'four':    '{\\\"message\\\":\\\"Hello\\\",\\\"from\\\":\\\"thread.four\\\"}'\n",
    "}\n",
    "```"
   ]
  },
  {
   "cell_type": "markdown",
   "metadata": {
    "slideshow": {
     "slide_type": "slide"
    }
   },
   "source": [
    "```python\n",
    "if __name__ == \"__main__\":\n",
    "    print(\"Starting threads\")\n",
    "    for name in thread_name:\n",
    "        threading.Thread(target=generator, args=(name, )).start()\n",
    "```"
   ]
  },
  {
   "cell_type": "markdown",
   "metadata": {
    "slideshow": {
     "slide_type": "slide"
    }
   },
   "source": [
    "```python\n",
    "def generator(name):\n",
    "    time.sleep(5)\n",
    "    sender.setup(\"thread\", host='fluentd', port=9888)\n",
    "    while(True):\n",
    "        event.Event(name, {\n",
    "            'log': thread_name[name]\n",
    "        })\n",
    "        time.sleep(random.randint(1,5))\n",
    "```"
   ]
  },
  {
   "cell_type": "markdown",
   "metadata": {
    "slideshow": {
     "slide_type": "slide"
    }
   },
   "source": [
    "### Configuration file"
   ]
  },
  {
   "cell_type": "markdown",
   "metadata": {
    "slideshow": {
     "slide_type": "fragment"
    }
   },
   "source": [
    "\"*For a Docker container, the default location of the config file is `/fluentd/etc/fluent.conf`. To mount a config file from outside of Docker, use a `bind-mount`.*\""
   ]
  },
  {
   "cell_type": "markdown",
   "metadata": {
    "slideshow": {
     "slide_type": "slide"
    }
   },
   "source": [
    "#### Source\n",
    "\n",
    "Directives determine the input sources."
   ]
  },
  {
   "cell_type": "markdown",
   "metadata": {
    "slideshow": {
     "slide_type": "fragment"
    }
   },
   "source": [
    "<pre>\n",
    "&lt;source&gt;\n",
    "  @type forward\n",
    "  port 9888\n",
    "  bind \"0.0.0.0\"\n",
    "&lt;/source&gt;\n",
    "</pre>"
   ]
  },
  {
   "cell_type": "markdown",
   "metadata": {
    "slideshow": {
     "slide_type": "slide"
    }
   },
   "source": [
    "#### Filter\n",
    "\n",
    "Directives determine the event processing pipelines."
   ]
  },
  {
   "cell_type": "markdown",
   "metadata": {
    "slideshow": {
     "slide_type": "slide"
    }
   },
   "source": [
    "##### thread.one and thread.four"
   ]
  },
  {
   "cell_type": "markdown",
   "metadata": {
    "slideshow": {
     "slide_type": "fragment"
    }
   },
   "source": [
    "<div style=\"float:left;width:50%;\">\n",
    "    <pre>\n",
    "    &lt;filter thread.one&gt;\n",
    "      @type parser\n",
    "      key_name log\n",
    "      hash_value_field parsed\n",
    "      &lt;parse&gt;\n",
    "        @type json\n",
    "      &lt;/parse&gt;\n",
    "    &lt;/filter&gt;\n",
    "    </pre>\n",
    "</div>\n",
    "<div style=\"float:left;width:50%;\">\n",
    "    <pre>\n",
    "    &lt;filter thread.four&gt;\n",
    "      @type parser\n",
    "      key_name log\n",
    "      hash_value_field parsed\n",
    "      &lt;parse&gt;\n",
    "        @type json\n",
    "      &lt;/parse&gt;\n",
    "    &lt;/filter&gt;\n",
    "    </pre>\n",
    "</div>"
   ]
  },
  {
   "cell_type": "markdown",
   "metadata": {
    "slideshow": {
     "slide_type": "slide"
    }
   },
   "source": [
    "##### thread.two and thread.three"
   ]
  },
  {
   "cell_type": "markdown",
   "metadata": {
    "slideshow": {
     "slide_type": "fragment"
    }
   },
   "source": [
    "<div style=\"float:left;width:50%;\">\n",
    "    <pre>\n",
    "    &lt;filter thread.two&gt;\n",
    "      @type parser\n",
    "      key_name log\n",
    "      hash_value_field parsed\n",
    "      &lt;parse&gt;\n",
    "        @type regexp\n",
    "        expression /^(?&lt;message&gt;[^ ]*) (?&lt;from&gt;[^ ]*)&#36;/\n",
    "      &lt;/parse&gt;\n",
    "    &lt;/filter&gt;\n",
    "    </pre>\n",
    "</div>\n",
    "<div style=\"float:left;width:50%;\">\n",
    "    <pre>\n",
    "    &lt;filter thread.four&gt;\n",
    "      @type parser\n",
    "      key_name log\n",
    "      hash_value_field parsed\n",
    "      &lt;parse&gt;\n",
    "        @type regexp\n",
    "        expression /^(?&lt;message&gt;[^ ]*) (?&lt;from&gt;[^ ]*)&#36;/\n",
    "      &lt;/parse&gt;\n",
    "    &lt;/filter&gt;\n",
    "    </pre>\n",
    "</div>"
   ]
  },
  {
   "cell_type": "markdown",
   "metadata": {
    "slideshow": {
     "slide_type": "slide"
    }
   },
   "source": [
    "#### Match\n",
    "\n",
    "Directives determine the output destinations."
   ]
  },
  {
   "cell_type": "markdown",
   "metadata": {
    "slideshow": {
     "slide_type": "fragment"
    }
   },
   "source": [
    "<div style=\"float:left;width:50%;\">\n",
    "    <pre>\n",
    "    &lt;match thread.one&gt;\n",
    "      @type stdout\n",
    "    &lt;/match&gt;\n",
    "    </pre>\n",
    "</div>\n",
    "<div style=\"float:left;width:50%;\">\n",
    "    <pre>\n",
    "    &lt;match thread.two&gt;\n",
    "      @type stdout\n",
    "    &lt;/match&gt;\n",
    "    </pre>\n",
    "</div>\n",
    "<div style=\"float:left;width:50%;\">\n",
    "    <pre>\n",
    "    &lt;match thread.three&gt;\n",
    "      @type stdout\n",
    "    &lt;/match&gt;\n",
    "    </pre>\n",
    "</div>\n",
    "<div style=\"float:left;width:50%;\">\n",
    "    <pre>\n",
    "    &lt;match thread.four&gt;\n",
    "      @type stdout\n",
    "    &lt;/match&gt;\n",
    "    </pre>\n",
    "</div>"
   ]
  },
  {
   "cell_type": "markdown",
   "metadata": {
    "slideshow": {
     "slide_type": "slide"
    }
   },
   "source": [
    "### docker-compose.yml"
   ]
  },
  {
   "cell_type": "markdown",
   "metadata": {
    "slideshow": {
     "slide_type": "fragment"
    }
   },
   "source": [
    "```docker\n",
    "fluentd:\n",
    "        image: fluent/fluentd:edge-debian\n",
    "        container_name: fluentd\n",
    "        hostname: fluentd\n",
    "        ports: \n",
    "            - \"9888:9888\"\n",
    "        volumes: \n",
    "            - ./conf:/fluentd/etc\n",
    "        networks: \n",
    "            tap:\n",
    "                ipv4_address: 10.0.100.2\n",
    "```"
   ]
  },
  {
   "cell_type": "markdown",
   "metadata": {
    "slideshow": {
     "slide_type": "slide"
    }
   },
   "source": [
    "```docker\n",
    "generator:\n",
    "        image: python:3.9.5\n",
    "        container_name: generator\n",
    "        hostname: generator\n",
    "        depends_on: \n",
    "            - fluentd\n",
    "        volumes: \n",
    "            - ./generator:/generator\n",
    "        command: \"bash -c 'pip install fluent-logger && \\\n",
    "                  python /generator/app.py'\"\n",
    "        networks: \n",
    "            tap:\n",
    "                ipv4_address: 10.0.100.3\n",
    "```"
   ]
  },
  {
   "cell_type": "markdown",
   "metadata": {
    "slideshow": {
     "slide_type": "slide"
    }
   },
   "source": [
    "<center><img src=\"img/end.jpg\"></center>"
   ]
  }
 ],
 "metadata": {
  "celltoolbar": "Slideshow",
  "kernelspec": {
   "display_name": "Python 3",
   "language": "python",
   "name": "python3"
  },
  "language_info": {
   "codemirror_mode": {
    "name": "ipython",
    "version": 3
   },
   "file_extension": ".py",
   "mimetype": "text/x-python",
   "name": "python",
   "nbconvert_exporter": "python",
   "pygments_lexer": "ipython3",
   "version": "3.8.5"
  }
 },
 "nbformat": 4,
 "nbformat_minor": 4
}
